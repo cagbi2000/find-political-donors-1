{
 "cells": [
  {
   "cell_type": "markdown",
   "metadata": {},
   "source": [
    "# Insight"
   ]
  },
  {
   "cell_type": "code",
   "execution_count": 1,
   "metadata": {
    "collapsed": false
   },
   "outputs": [
    {
     "name": "stdout",
     "output_type": "stream",
     "text": [
      "hi\n",
      "Streaming data from /Users/ClarenceAgbi/Documents/GitHub/find-political-donors/input/itcont.txt\n",
      "\n",
      "Writing to  /Users/ClarenceAgbi/Documents/GitHub/find-political-donors/output/medianvals_by_date.txt\n",
      "Done!\n"
     ]
    }
   ],
   "source": [
    "import os\n",
    "from find_political_donors import StreamData\n",
    "\n",
    "# Read in header file\n",
    "rootDir     = os.path.dirname( os.getcwd() )\n",
    "\n",
    "#inputFile   = os.path.join( rootDir, 'input', 'itcont_sample.txt')\n",
    "#inputFile   = os.path.join( rootDir, 'input', 'by_date', 'itcont_2016_10151005_20150726.txt')\n",
    "inputFile   = os.path.join( rootDir, 'input', 'itcont.txt')\n",
    "\n",
    "output1File = os.path.join( rootDir, 'output', 'medianvals_by_zip.txt')\n",
    "output2File = os.path.join( rootDir, 'output', 'medianvals_by_date.txt')\n",
    "\n",
    "StreamData( inputFile, output1File, output2File )\n"
   ]
  },
  {
   "cell_type": "code",
   "execution_count": null,
   "metadata": {
    "collapsed": false
   },
   "outputs": [],
   "source": []
  },
  {
   "cell_type": "code",
   "execution_count": null,
   "metadata": {
    "collapsed": false
   },
   "outputs": [],
   "source": [
    "A = sortedList()\n",
    "A.add_value(1)\n",
    "A.add_value(2)\n",
    "A.add_value(5)\n",
    "A.add_value(6)\n",
    "A.add_value(4)\n",
    "A.add_value(5)\n",
    "A.add_value(7)\n",
    "A.add_value(-1)\n",
    "\n",
    "print( A.Low, \" and \", A.High, \" and \", A.Count )\n",
    "A.median()"
   ]
  }
 ],
 "metadata": {
  "kernelspec": {
   "display_name": "Python 3",
   "language": "python",
   "name": "python3"
  },
  "language_info": {
   "codemirror_mode": {
    "name": "ipython",
    "version": 3
   },
   "file_extension": ".py",
   "mimetype": "text/x-python",
   "name": "python",
   "nbconvert_exporter": "python",
   "pygments_lexer": "ipython3",
   "version": "3.6.1"
  }
 },
 "nbformat": 4,
 "nbformat_minor": 2
}
